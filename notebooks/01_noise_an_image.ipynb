{
 "cells": [
  {
   "cell_type": "code",
   "execution_count": 1,
   "id": "5ad93d57-0bf3-48d5-80a1-e5f267f6a106",
   "metadata": {},
   "outputs": [
    {
     "name": "stdout",
     "output_type": "stream",
     "text": [
      "Tue Nov  8 21:17:11 2022       \n",
      "+-----------------------------------------------------------------------------+\n",
      "| NVIDIA-SMI 470.57.02    Driver Version: 470.57.02    CUDA Version: 11.4     |\n",
      "|-------------------------------+----------------------+----------------------+\n",
      "| GPU  Name        Persistence-M| Bus-Id        Disp.A | Volatile Uncorr. ECC |\n",
      "| Fan  Temp  Perf  Pwr:Usage/Cap|         Memory-Usage | GPU-Util  Compute M. |\n",
      "|                               |                      |               MIG M. |\n",
      "|===============================+======================+======================|\n",
      "|   0  Tesla T4            Off  | 00000000:00:04.0 Off |                    0 |\n",
      "| N/A   53C    P0    29W /  70W |      0MiB / 15109MiB |      0%      Default |\n",
      "|                               |                      |                  N/A |\n",
      "+-------------------------------+----------------------+----------------------+\n",
      "                                                                               \n",
      "+-----------------------------------------------------------------------------+\n",
      "| Processes:                                                                  |\n",
      "|  GPU   GI   CI        PID   Type   Process name                  GPU Memory |\n",
      "|        ID   ID                                                   Usage      |\n",
      "|=============================================================================|\n",
      "|  No running processes found                                                 |\n",
      "+-----------------------------------------------------------------------------+\n"
     ]
    }
   ],
   "source": [
    "!nvidia-smi"
   ]
  },
  {
   "cell_type": "code",
   "execution_count": 8,
   "id": "13019460-213d-4521-bb52-f016982d810b",
   "metadata": {},
   "outputs": [],
   "source": [
    "from torchvision.datasets import MNIST\n",
    "from pathlib import Path\n",
    "import matplotlib.pyplot as plt\n",
    "import numpy as np\n",
    "import torch"
   ]
  },
  {
   "cell_type": "code",
   "execution_count": 3,
   "id": "3dca44d4-c130-4de7-b107-e4e1130cca41",
   "metadata": {},
   "outputs": [],
   "source": [
    "data_dir = Path('/app/data/mnist')\n",
    "data_dir.mkdir(exist_ok=True, parents=True)"
   ]
  },
  {
   "cell_type": "code",
   "execution_count": 4,
   "id": "3beca687-26b5-4eb4-a89e-8e21d1527c02",
   "metadata": {
    "tags": []
   },
   "outputs": [],
   "source": [
    "dataset = MNIST(root=data_dir, train=True, download=True)"
   ]
  },
  {
   "cell_type": "code",
   "execution_count": 5,
   "id": "2d839419-8742-4c2e-bf97-6e5032794cdb",
   "metadata": {},
   "outputs": [],
   "source": [
    "pil_img, idx = dataset[0]\n",
    "np_img = np.array(pil_img)"
   ]
  },
  {
   "cell_type": "code",
   "execution_count": 6,
   "id": "206eedfd-f2ac-4a40-ba48-b03857ce5b96",
   "metadata": {},
   "outputs": [
    {
     "data": {
      "text/plain": [
       "<matplotlib.image.AxesImage at 0x7fc9b79c65b0>"
      ]
     },
     "execution_count": 6,
     "metadata": {},
     "output_type": "execute_result"
    },
    {
     "data": {
      "image/png": "[encoded data removed]",
      "text/plain": [
       "<Figure size 432x288 with 1 Axes>"
      ]
     },
     "metadata": {
      "needs_background": "light"
     },
     "output_type": "display_data"
    }
   ],
   "source": [
    "plt.imshow(np_img, cmap='gray')"
   ]
  },
  {
   "cell_type": "markdown",
   "id": "e0e92ab5-4bcd-4ea3-8537-751d7f9feaf6",
   "metadata": {},
   "source": [
    "# Lets add some noise"
   ]
  },
  {
   "cell_type": "code",
   "execution_count": 23,
   "id": "4b6db9f8-ee4a-4e84-9187-27d9df6f6488",
   "metadata": {},
   "outputs": [],
   "source": [
    "t_img = torch.tensor(np_img) / 255."
   ]
  },
  {
   "cell_type": "code",
   "execution_count": 36,
   "id": "d394d188-d448-471d-b77f-3cec236b07de",
   "metadata": {},
   "outputs": [],
   "source": [
    "noise = torch.empty(28, 28).normal_(mean=0., std=0.15)"
   ]
  },
  {
   "cell_type": "code",
   "execution_count": 37,
   "id": "5a179275-f81e-4fab-8100-e9223c4540f4",
   "metadata": {},
   "outputs": [
    {
     "data": {
      "image/png": "[encoded data removed]",
      "text/plain": [
       "<Figure size 432x288 with 1 Axes>"
      ]
     },
     "metadata": {
      "needs_background": "light"
     },
     "output_type": "display_data"
    },
    {
     "data": {
      "image/png": "[encoded data removed]",
      "text/plain": [
       "<Figure size 432x288 with 1 Axes>"
      ]
     },
     "metadata": {
      "needs_background": "light"
     },
     "output_type": "display_data"
    },
    {
     "data": {
      "text/plain": [
       "<matplotlib.image.AxesImage at 0x7fc9b23d75e0>"
      ]
     },
     "execution_count": 37,
     "metadata": {},
     "output_type": "execute_result"
    },
    {
     "data": {
      "image/png": "[encoded data removed]",
      "text/plain": [
       "<Figure size 432x288 with 1 Axes>"
      ]
     },
     "metadata": {
      "needs_background": "light"
     },
     "output_type": "display_data"
    }
   ],
   "source": [
    "plt.imshow(t_img, cmap='gray')\n",
    "plt.show()\n",
    "plt.imshow(noise, cmap='gray')\n",
    "plt.show()\n",
    "plt.imshow(t_img+noise, cmap='gray')"
   ]
  },
  {
   "cell_type": "markdown",
   "id": "d7fe6f83-2659-40f2-a04f-e2ca8b43cdf9",
   "metadata": {},
   "source": [
    "# Noise variance scheduling"
   ]
  },
  {
   "cell_type": "code",
   "execution_count": 43,
   "id": "1be1f36e-a7d0-4f10-b5f2-ea691f7bc5ba",
   "metadata": {},
   "outputs": [],
   "source": [
    "T = torch.linspace(0, 0.999, 1000)\n",
    "torch.pi = torch.acos(torch.zeros(1)).item() * 2"
   ]
  },
  {
   "cell_type": "code",
   "execution_count": 44,
   "id": "910e84ef-4999-4c3f-b28b-781840804942",
   "metadata": {},
   "outputs": [
    {
     "data": {
      "text/plain": [
       "3.1415927410125732"
      ]
     },
     "execution_count": 44,
     "metadata": {},
     "output_type": "execute_result"
    }
   ],
   "source": [
    "torch.pi"
   ]
  },
  {
   "cell_type": "code",
   "execution_count": 45,
   "id": "0b02e8b0-966c-4b21-98c3-9a75afe70112",
   "metadata": {},
   "outputs": [],
   "source": [
    "s = 0.008\n",
    "\n",
    "def var_scale(t):\n",
    "    return torch.cos((t+s)/(1+s)*(torch.pi/2))**2"
   ]
  },
  {
   "cell_type": "code",
   "execution_count": 46,
   "id": "5d5c8fd8-ac84-49c2-910e-0abb15da61e6",
   "metadata": {},
   "outputs": [],
   "source": [
    "T_scale = var_scale(T)"
   ]
  },
  {
   "cell_type": "code",
   "execution_count": 48,
   "id": "206cc52c-0bdb-40c4-9b8c-a39f8cf844d3",
   "metadata": {},
   "outputs": [
    {
     "data": {
      "text/plain": [
       "[<matplotlib.lines.Line2D at 0x7fc9b23b5430>]"
      ]
     },
     "execution_count": 48,
     "metadata": {},
     "output_type": "execute_result"
    },
    {
     "data": {
      "image/png": "[encoded data removed]",
      "text/plain": [
       "<Figure size 432x288 with 1 Axes>"
      ]
     },
     "metadata": {
      "needs_background": "light"
     },
     "output_type": "display_data"
    }
   ],
   "source": [
    "plt.plot(T_scale)"
   ]
  },
  {
   "cell_type": "markdown",
   "id": "6d204fd5-a87f-4310-9a20-81b7bfca82c9",
   "metadata": {},
   "source": [
    "# Apply scaled noise"
   ]
  },
  {
   "cell_type": "code",
   "execution_count": 49,
   "id": "ae0231f4-cf3b-4d3b-bb0a-628b713809bb",
   "metadata": {},
   "outputs": [],
   "source": [
    "def q(x_t, b_t):\n",
    "    noise = torch.empty(x_t.shape).normal_(mean=torch.sqrt(1.-b_t), std=b_t)\n",
    "    return x_t + noise"
   ]
  },
  {
   "cell_type": "code",
   "execution_count": 61,
   "id": "5f3fc8a7-d6ae-4f2f-a0ef-73384007a260",
   "metadata": {},
   "outputs": [],
   "source": [
    "noised = q(t_img, T_scale[0])"
   ]
  },
  {
   "cell_type": "code",
   "execution_count": 62,
   "id": "e43d6627-d63d-45cb-b6b8-8639905c9f13",
   "metadata": {},
   "outputs": [
    {
     "data": {
      "image/png": "[encoded data removed]",
      "text/plain": [
       "<Figure size 432x288 with 1 Axes>"
      ]
     },
     "metadata": {
      "needs_background": "light"
     },
     "output_type": "display_data"
    },
    {
     "data": {
      "text/plain": [
       "<matplotlib.image.AxesImage at 0x7fc9b2670790>"
      ]
     },
     "execution_count": 62,
     "metadata": {},
     "output_type": "execute_result"
    },
    {
     "data": {
      "image/png": "[encoded data removed]",
      "text/plain": [
       "<Figure size 432x288 with 1 Axes>"
      ]
     },
     "metadata": {
      "needs_background": "light"
     },
     "output_type": "display_data"
    }
   ],
   "source": [
    "plt.imshow(t_img, cmap='gray')\n",
    "plt.show()\n",
    "plt.imshow(noised, cmap='gray')"
   ]
  },
  {
   "cell_type": "markdown",
   "id": "92a697ce-dfc7-4fa1-b36e-5ec57130f859",
   "metadata": {},
   "source": [
    "# U-Net definition"
   ]
  },
  {
   "cell_type": "code",
   "execution_count": 99,
   "id": "3618952a-53d1-435c-82f7-5b9608581ebe",
   "metadata": {},
   "outputs": [],
   "source": [
    "from vanilla_vae import VanillaVAE"
   ]
  },
  {
   "cell_type": "code",
   "execution_count": 146,
   "id": "3c77b656-b575-4226-8572-354dfc117bf2",
   "metadata": {},
   "outputs": [],
   "source": [
    "# p = VanillaVAE(in_channels=3, latent_dim=10)\n",
    "p = VanillaVAE(in_channels=1, latent_dim=10)"
   ]
  },
  {
   "cell_type": "code",
   "execution_count": 147,
   "id": "56d19492-a967-4368-bfaa-9b17d7306011",
   "metadata": {},
   "outputs": [
    {
     "data": {
      "text/plain": [
       "torch.Size([1, 1, 28, 28])"
      ]
     },
     "execution_count": 147,
     "metadata": {},
     "output_type": "execute_result"
    }
   ],
   "source": [
    "noised.unsqueeze(0).unsqueeze(0).shape"
   ]
  },
  {
   "cell_type": "code",
   "execution_count": 148,
   "id": "aa0b235a-6563-43ce-aa05-c28fc491a91d",
   "metadata": {},
   "outputs": [],
   "source": [
    "res = p(torch.rand(2, 1, 64, 64))"
   ]
  },
  {
   "cell_type": "code",
   "execution_count": 149,
   "id": "879c98ec-58a6-4efd-b3e9-04da1a03f26b",
   "metadata": {},
   "outputs": [
    {
     "data": {
      "text/plain": [
       "torch.Size([2, 3, 64, 64])"
      ]
     },
     "execution_count": 149,
     "metadata": {},
     "output_type": "execute_result"
    }
   ],
   "source": [
    "res[0].shape"
   ]
  },
  {
   "cell_type": "code",
   "execution_count": null,
   "id": "bf8a52e6-a42a-4257-8202-5d8e38a5e796",
   "metadata": {},
   "outputs": [],
   "source": []
  }
 ],
 "metadata": {
  "kernelspec": {
   "display_name": "Python 3 (ipykernel)",
   "language": "python",
   "name": "python3"
  },
  "language_info": {
   "codemirror_mode": {
    "name": "ipython",
    "version": 3
   },
   "file_extension": ".py",
   "mimetype": "text/x-python",
   "name": "python",
   "nbconvert_exporter": "python",
   "pygments_lexer": "ipython3",
   "version": "3.8.12"
  }
 },
 "nbformat": 4,
 "nbformat_minor": 5
}
