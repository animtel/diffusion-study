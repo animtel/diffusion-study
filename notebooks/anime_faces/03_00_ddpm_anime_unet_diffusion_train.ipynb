{
 "cells": [
  {
   "cell_type": "code",
   "execution_count": 1,
   "id": "8413fff2-e2fa-4507-b368-38f2f89060ab",
   "metadata": {},
   "outputs": [
    {
     "name": "stdout",
     "output_type": "stream",
     "text": [
      "Sat Nov 19 11:34:52 2022       \n",
      "+-----------------------------------------------------------------------------+\n",
      "| NVIDIA-SMI 470.57.02    Driver Version: 470.57.02    CUDA Version: 11.4     |\n",
      "|-------------------------------+----------------------+----------------------+\n",
      "| GPU  Name        Persistence-M| Bus-Id        Disp.A | Volatile Uncorr. ECC |\n",
      "| Fan  Temp  Perf  Pwr:Usage/Cap|         Memory-Usage | GPU-Util  Compute M. |\n",
      "|                               |                      |               MIG M. |\n",
      "|===============================+======================+======================|\n",
      "|   0  Tesla T4            Off  | 00000000:00:04.0 Off |                    0 |\n",
      "| N/A   46C    P0    25W /  70W |      0MiB / 15109MiB |      0%      Default |\n",
      "|                               |                      |                  N/A |\n",
      "+-------------------------------+----------------------+----------------------+\n",
      "                                                                               \n",
      "+-----------------------------------------------------------------------------+\n",
      "| Processes:                                                                  |\n",
      "|  GPU   GI   CI        PID   Type   Process name                  GPU Memory |\n",
      "|        ID   ID                                                   Usage      |\n",
      "|=============================================================================|\n",
      "|  No running processes found                                                 |\n",
      "+-----------------------------------------------------------------------------+\n"
     ]
    }
   ],
   "source": [
    "!nvidia-smi"
   ]
  },
  {
   "cell_type": "code",
   "execution_count": 2,
   "id": "8823a7f6-a560-4591-aef1-f49725f1e839",
   "metadata": {},
   "outputs": [],
   "source": [
    "import sys\n",
    "sys.path.append('/app/src')\n",
    "\n",
    "import torchvision.datasets as dset\n",
    "from torch.utils.data import DataLoader\n",
    "from pathlib import Path\n",
    "import matplotlib.pyplot as plt\n",
    "import numpy as np\n",
    "import torch\n",
    "from torch import nn\n",
    "import torchvision.transforms as T\n",
    "from torchvision.utils import save_image, make_grid\n",
    "\n",
    "from unet import UNetModel\n",
    "from tqdm import tqdm\n",
    "import math"
   ]
  },
  {
   "cell_type": "code",
   "execution_count": 3,
   "id": "fb63e638-356e-4db2-bf48-079aed209932",
   "metadata": {},
   "outputs": [],
   "source": [
    "device = 'cuda:0'"
   ]
  },
  {
   "cell_type": "code",
   "execution_count": 4,
   "id": "24c939c4-e85f-400c-ab20-e4243cd60dd9",
   "metadata": {},
   "outputs": [],
   "source": [
    "data_dir = Path('/app/data/anime/')\n",
    "data_dir.mkdir(exist_ok=True, parents=True)"
   ]
  },
  {
   "cell_type": "code",
   "execution_count": 5,
   "id": "294e9b26-d3b1-4206-b4ed-5cf95134b13f",
   "metadata": {},
   "outputs": [],
   "source": [
    "image_c = 3\n",
    "image_size = 64\n",
    "\n",
    "dataset = dset.ImageFolder(root=data_dir,\n",
    "                           transform=T.Compose([\n",
    "                               T.Resize(image_size),\n",
    "                               T.CenterCrop(image_size),\n",
    "                               T.ToTensor(),\n",
    "                               # T.Normalize((0.5, 0.5, 0.5), (0.5, 0.5, 0.5)),\n",
    "                           ]))"
   ]
  },
  {
   "cell_type": "code",
   "execution_count": 6,
   "id": "cf52bd5b-4af3-47d0-aefb-45e712b96e04",
   "metadata": {},
   "outputs": [
    {
     "data": {
      "text/plain": [
       "<matplotlib.image.AxesImage at 0x7f28f805f460>"
      ]
     },
     "execution_count": 6,
     "metadata": {},
     "output_type": "execute_result"
    },
    {
     "data": {
      "image/png": "[encoded data removed]",
      "text/plain": [
       "<Figure size 432x288 with 1 Axes>"
      ]
     },
     "metadata": {
      "needs_background": "light"
     },
     "output_type": "display_data"
    }
   ],
   "source": [
    "plt.imshow(dataset[6][0].permute(1, 2, 0))"
   ]
  },
  {
   "cell_type": "code",
   "execution_count": 7,
   "id": "16817cad-0f21-436d-babb-ef8270cb670e",
   "metadata": {},
   "outputs": [],
   "source": [
    "train_dataloader = DataLoader(dataset, batch_size=16, shuffle=True, num_workers=4, drop_last=True)"
   ]
  },
  {
   "cell_type": "code",
   "execution_count": 8,
   "id": "7589fa34-d21d-403e-808d-52ec026b6a42",
   "metadata": {},
   "outputs": [],
   "source": [
    "def get_named_beta_schedule(schedule_name, num_diffusion_timesteps):\n",
    "    \"\"\"\n",
    "    Get a pre-defined beta schedule for the given name.\n",
    "    The beta schedule library consists of beta schedules which remain similar\n",
    "    in the limit of num_diffusion_timesteps.\n",
    "    Beta schedules may be added, but should not be removed or changed once\n",
    "    they are committed to maintain backwards compatibility.\n",
    "    \"\"\"\n",
    "    if schedule_name == \"linear\":\n",
    "        # Linear schedule from Ho et al, extended to work for any number of\n",
    "        # diffusion steps.\n",
    "        scale = 1000 / num_diffusion_timesteps\n",
    "        beta_start = scale * 0.0001\n",
    "        beta_end = scale * 0.02\n",
    "        return np.linspace(\n",
    "            beta_start, beta_end, num_diffusion_timesteps, dtype=np.float32\n",
    "        )\n",
    "    elif schedule_name == \"cosine\":\n",
    "        return betas_for_alpha_bar(\n",
    "            num_diffusion_timesteps,\n",
    "            lambda t: math.cos((t + 0.008) / 1.008 * math.pi / 2) ** 2,\n",
    "        )\n",
    "    else:\n",
    "        raise NotImplementedError(f\"unknown beta schedule: {schedule_name}\")\n",
    "\n",
    "\n",
    "def betas_for_alpha_bar(num_diffusion_timesteps, alpha_bar, max_beta=0.999):\n",
    "    \"\"\"\n",
    "    Create a beta schedule that discretizes the given alpha_t_bar function,\n",
    "    which defines the cumulative product of (1-beta) over time from t = [0,1].\n",
    "    :param num_diffusion_timesteps: the number of betas to produce.\n",
    "    :param alpha_bar: a lambda that takes an argument t from 0 to 1 and\n",
    "                      produces the cumulative product of (1-beta) up to that\n",
    "                      part of the diffusion process.\n",
    "    :param max_beta: the maximum beta to use; use values lower than 1 to\n",
    "                     prevent singularities.\n",
    "    \"\"\"\n",
    "    betas = []\n",
    "    for i in range(num_diffusion_timesteps):\n",
    "        t1 = i / num_diffusion_timesteps\n",
    "        t2 = (i + 1) / num_diffusion_timesteps\n",
    "        betas.append(min(1 - alpha_bar(t2) / alpha_bar(t1), max_beta))\n",
    "    return np.array(betas)\n",
    "\n",
    "class DDPM(nn.Module):\n",
    "    def __init__(self, T = 1000):\n",
    "        super(DDPM, self).__init__()\n",
    "        \n",
    "        self.diffuser = UNetModel(in_channels=3, \n",
    "                                   model_channels=256, \n",
    "                                   num_heads=4, \n",
    "                                   channel_mult = (1, 2, 3, 4), \n",
    "                                   out_channels=3, \n",
    "                                   num_res_blocks=2, \n",
    "                                   attention_resolutions=[4, 8])\n",
    "\n",
    "        self.T = T\n",
    "        self.betas = torch.tensor(get_named_beta_schedule('cosine', self.T)).to(device).to(torch.float32)\n",
    "        self.a = 1. - self.betas\n",
    "        self.a_hat = torch.cumprod(self.a, dim=0)\n",
    "        \n",
    "        self.a_hat_prev = torch.cat([torch.tensor([1], dtype=torch.float32).to(device), self.a_hat[:-1]], 0)\n",
    "        self.posterior_variance = self.betas * (1 - self.a_hat_prev) / (1 - self.a_hat)\n",
    "        self.posterior_log_variance_clipped = torch.log(self.posterior_variance.clamp(min=1e-20))\n",
    "        \n",
    "        self.sqrt_recip_a_hat = torch.rsqrt(self.a_hat)\n",
    "        self.sqrt_recipm1_a_hat = torch.sqrt(1 / self.a_hat - 1)\n",
    "        self.posterior_mean_coef1 = self.betas * torch.sqrt(self.a_hat_prev) / (1 - self.a_hat)\n",
    "        self.posterior_mean_coef2 = (1 - self.a_hat_prev) * torch.sqrt(self.a) / (1 - self.a_hat)\n",
    "\n",
    "    def forward(self, x0):\n",
    "        t = torch.randint(self.T, (x0.size(0),)).to(device)\n",
    "        eps = torch.randn_like(x0).to(device)\n",
    "        \n",
    "        a_hat_t = self.a_hat[t][:, None, None, None].to(device)\n",
    "        \n",
    "        pred_eps = self.diffuser(torch.sqrt(a_hat_t) * x0 +\n",
    "                                 torch.sqrt(1 - a_hat_t) * eps, t.float()/self.T)\n",
    "        losses_dict = self.diffuser.loss_function(pred_eps, eps)\n",
    "        return losses_dict\n",
    "    \n",
    "    def predict_start_from_noise(self, x_t, t, noise):\n",
    "        return (self.sqrt_recip_a_hat[t][:, None, None, None] * x_t - self.sqrt_recipm1_a_hat[t][:, None, None, None] * noise)\n",
    "    \n",
    "    def q_posterior(self, x_0, x_t, t):\n",
    "        mean = (\n",
    "            self.posterior_mean_coef1[t][:, None, None, None] * x_0 + self.posterior_mean_coef2[t][:, None, None, None] * x_t\n",
    "        )\n",
    "        var = self.posterior_variance[t][:, None, None, None]\n",
    "        log_var_clipped = self.posterior_log_variance_clipped[t][:, None, None, None]\n",
    "\n",
    "        return mean, var, log_var_clipped\n",
    "    \n",
    "    def p_mean_variance(self, x, t, clip_denoised):\n",
    "        noise = self.diffuser(x, t/self.T)\n",
    "        x_recon = self.predict_start_from_noise(x, t, noise=noise)\n",
    "\n",
    "        if clip_denoised:\n",
    "            x_recon = x_recon.clamp(min=-1, max=1)\n",
    "\n",
    "        mean, var, log_var = self.q_posterior(x_recon, x, t)\n",
    "\n",
    "        return mean, var, log_var\n",
    "    \n",
    "    def p_sample(self, x, t, clip_denoised=True, repeat_noise=False):\n",
    "        mean, _, log_var = self.p_mean_variance(x, t, clip_denoised)\n",
    "        noise = torch.randn_like(x).to(device)\n",
    "        shape = [x.shape[0]] + [1] * (x.ndim - 1)\n",
    "        nonzero_mask = (1 - (t == 0).type(torch.float32)).view(*shape)\n",
    "\n",
    "        return mean + nonzero_mask * torch.exp(0.5 * log_var) * noise\n",
    "    \n",
    "    @torch.no_grad()\n",
    "    def p_sample_loop(self, n_samples, data_size):\n",
    "        img = torch.randn([n_samples, *data_size]).to(device)\n",
    "\n",
    "        for i in tqdm(reversed(range(self.T))):\n",
    "            img = self.p_sample(\n",
    "                img,\n",
    "                i*torch.ones((n_samples)).to(img.device).to(torch.int64),\n",
    "            )\n",
    "\n",
    "        return img\n",
    "    \n",
    "    @torch.no_grad()\n",
    "    def sample(self, n_samples, data_size):\n",
    "        xT = torch.randn([n_samples, *data_size]).to(device)\n",
    "        for t in tqdm(range(self.T, 0, -1)):\n",
    "            z = torch.randn_like(xT) if t > 1 else 0\n",
    "            k = ((1 - self.a[t-1])/math.sqrt(1 - self.a_hat[t-1])).to(xT.device)\n",
    "            t_tensor = t*torch.ones((n_samples)).to(xT.device)/self.T\n",
    "            sigma = torch.sqrt(1 - self.a[t-1]).to(xT.device)\n",
    "            xT = 1/math.sqrt(self.a[t-1]) * (xT - k*self.diffuser(xT, t_tensor)) + z * sigma\n",
    "        return xT\n",
    "    \n",
    "def normalize_image(img):\n",
    "    img += 1.\n",
    "    img /= 2.\n",
    "    return img\n",
    "    \n",
    "def log_images(samples, i):\n",
    "    img_grid = make_grid(samples, nrow=4, value_range=(-1, 1))\n",
    "    norm_img = normalize_image(img_grid)\n",
    "    save_image(norm_img, f\"log_images/{i}_sample.png\")\n",
    "    if wandb.run is not None:\n",
    "        images = wandb.Image(img_grid, caption=\"Random sampled images\")\n",
    "\n",
    "        wandb.log({\"Samples\": images, 'i': i})"
   ]
  },
  {
   "cell_type": "code",
   "execution_count": 9,
   "id": "15ba8088-c148-43c0-9b7a-9c6bccae2157",
   "metadata": {},
   "outputs": [
    {
     "name": "stderr",
     "output_type": "stream",
     "text": [
      "\u001b[34m\u001b[1mwandb\u001b[0m: Currently logged in as: \u001b[33mnerlfield\u001b[0m. Use \u001b[1m`wandb login --relogin`\u001b[0m to force relogin\n"
     ]
    },
    {
     "data": {
      "text/html": [
       "wandb version 0.13.5 is available!  To upgrade, please run:\n",
       " $ pip install wandb --upgrade"
      ],
      "text/plain": [
       "<IPython.core.display.HTML object>"
      ]
     },
     "metadata": {},
     "output_type": "display_data"
    },
    {
     "data": {
      "text/html": [
       "Tracking run with wandb version 0.12.17"
      ],
      "text/plain": [
       "<IPython.core.display.HTML object>"
      ]
     },
     "metadata": {},
     "output_type": "display_data"
    },
    {
     "data": {
      "text/html": [
       "Run data is saved locally in <code>/app/notebooks/wandb/run-20221119_113455-s2b0up5e</code>"
      ],
      "text/plain": [
       "<IPython.core.display.HTML object>"
      ]
     },
     "metadata": {},
     "output_type": "display_data"
    },
    {
     "data": {
      "text/html": [
       "Syncing run <strong><a href=\"https://wandb.ai/nerlfield/anime_faces_diffusion/runs/s2b0up5e\" target=\"_blank\">ddpm_cosine-betas_unet_latent-256_diffusion</a></strong> to <a href=\"https://wandb.ai/nerlfield/anime_faces_diffusion\" target=\"_blank\">Weights & Biases</a> (<a href=\"https://wandb.me/run\" target=\"_blank\">docs</a>)<br/>"
      ],
      "text/plain": [
       "<IPython.core.display.HTML object>"
      ]
     },
     "metadata": {},
     "output_type": "display_data"
    },
    {
     "data": {
      "text/html": [
       "<button onClick=\"this.nextSibling.style.display='block';this.style.display='none';\">Display W&B run</button><iframe src=\"https://wandb.ai/nerlfield/anime_faces_diffusion/runs/s2b0up5e?jupyter=true\" style=\"border:none;width:100%;height:420px;display:none;\"></iframe>"
      ],
      "text/plain": [
       "<wandb.sdk.wandb_run.Run at 0x7f28f35a2790>"
      ]
     },
     "execution_count": 9,
     "metadata": {},
     "output_type": "execute_result"
    }
   ],
   "source": [
    "import wandb\n",
    "wandb.init(project='anime_faces_diffusion', name=f'ddpm_cosine-betas_unet_latent-256_diffusion')"
   ]
  },
  {
   "cell_type": "code",
   "execution_count": 10,
   "id": "1ef771b4-78eb-4b07-86ae-0ae81abb50bb",
   "metadata": {},
   "outputs": [],
   "source": [
    "model = DDPM().to(device)\n",
    "optimizer = torch.optim.AdamW(model.parameters(), lr=1e-4, weight_decay=1e-5)"
   ]
  },
  {
   "cell_type": "code",
   "execution_count": null,
   "id": "e6efcb7f-213d-43b9-a1e0-ca16b963822d",
   "metadata": {
    "tags": []
   },
   "outputs": [],
   "source": [
    "num_epoch = 500\n",
    "loss_vis_freq = 200\n",
    "\n",
    "i = 0\n",
    "epoch = 0\n",
    "\n",
    "for epoch in range(epoch, num_epoch, 1):\n",
    "    model.train()\n",
    "    for batch in train_dataloader:\n",
    "        batch = batch[0].to(device) #only images\n",
    "        losses_dict = model(batch)\n",
    "        \n",
    "        loss = losses_dict['loss']\n",
    "\n",
    "        optimizer.zero_grad()\n",
    "        loss.backward()\n",
    "        optimizer.step()\n",
    "\n",
    "        if wandb.run is not None:\n",
    "            wandb.log({'loss': loss.item(),\n",
    "                       'i': i})\n",
    "        elif i % loss_vis_freq == 0:\n",
    "            print(loss.item())\n",
    "        \n",
    "        i += 1\n",
    "        # break\n",
    "    \n",
    "    with torch.inference_mode():\n",
    "        model.eval()\n",
    "        samples = model.p_sample_loop(16, (image_c, image_size, image_size))\n",
    "        log_images(samples, i)\n"
   ]
  },
  {
   "cell_type": "code",
   "execution_count": null,
   "id": "c9d2bc97-7052-4ea2-9ab2-41279335a4ca",
   "metadata": {},
   "outputs": [],
   "source": [
    "model.sqrt_recipm1_a_hat.shape"
   ]
  },
  {
   "cell_type": "markdown",
   "id": "c651731d-95fd-43fa-a765-002006b72041",
   "metadata": {},
   "source": [
    "# overfit"
   ]
  },
  {
   "cell_type": "code",
   "execution_count": null,
   "id": "46f404e0-24be-43bc-9051-aae43bd7b891",
   "metadata": {},
   "outputs": [],
   "source": [
    "# for batch in train_dataloader:\n",
    "#     batch = batch[0].to(device)\n",
    "#     break"
   ]
  },
  {
   "cell_type": "code",
   "execution_count": null,
   "id": "7b378c8e-5cfb-4c89-84e0-fff0c0b79290",
   "metadata": {},
   "outputs": [],
   "source": [
    "# num_epoch = 1000\n",
    "# loss_vis_freq = 200\n",
    "\n",
    "# i = 0\n",
    "# for epoch in range(num_epoch):\n",
    "#     model.train()\n",
    "#     for wsefd in range(1000):\n",
    "#         losses_dict = model(batch)\n",
    "\n",
    "#         loss = losses_dict['loss']\n",
    "\n",
    "#         optimizer.zero_grad()\n",
    "#         loss.backward()\n",
    "#         optimizer.step()\n",
    "\n",
    "#         if wandb.run is not None:\n",
    "#             wandb.log({'loss': loss.item(),\n",
    "#                        'i': i})\n",
    "#         elif i % loss_vis_freq == 0:\n",
    "#             print(loss.item())\n",
    "\n",
    "#         i += 1\n",
    "        \n",
    "#     model.eval()\n",
    "#     samples = model.sample(32, (1, 28, 28))\n",
    "#     log_images(samples, i)"
   ]
  }
 ],
 "metadata": {
  "kernelspec": {
   "display_name": "Python 3 (ipykernel)",
   "language": "python",
   "name": "python3"
  },
  "language_info": {
   "codemirror_mode": {
    "name": "ipython",
    "version": 3
   },
   "file_extension": ".py",
   "mimetype": "text/x-python",
   "name": "python",
   "nbconvert_exporter": "python",
   "pygments_lexer": "ipython3",
   "version": "3.8.12"
  },
  "vscode": {
   "interpreter": {
    "hash": "d4d1e4263499bec80672ea0156c357c1ee493ec2b1c70f0acce89fc37c4a6abe"
   }
  }
 },
 "nbformat": 4,
 "nbformat_minor": 5
}
