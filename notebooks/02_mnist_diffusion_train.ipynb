{
 "cells": [
  {
   "cell_type": "code",
   "execution_count": 1,
   "id": "8413fff2-e2fa-4507-b368-38f2f89060ab",
   "metadata": {},
   "outputs": [
    {
     "name": "stdout",
     "output_type": "stream",
     "text": [
      "Thu Nov 10 22:01:17 2022       \n",
      "+-----------------------------------------------------------------------------+\n",
      "| NVIDIA-SMI 470.57.02    Driver Version: 470.57.02    CUDA Version: 11.4     |\n",
      "|-------------------------------+----------------------+----------------------+\n",
      "| GPU  Name        Persistence-M| Bus-Id        Disp.A | Volatile Uncorr. ECC |\n",
      "| Fan  Temp  Perf  Pwr:Usage/Cap|         Memory-Usage | GPU-Util  Compute M. |\n",
      "|                               |                      |               MIG M. |\n",
      "|===============================+======================+======================|\n",
      "|   0  Tesla T4            Off  | 00000000:00:04.0 Off |                    0 |\n",
      "| N/A   68C    P0    31W /  70W |   1450MiB / 15109MiB |      0%      Default |\n",
      "|                               |                      |                  N/A |\n",
      "+-------------------------------+----------------------+----------------------+\n",
      "                                                                               \n",
      "+-----------------------------------------------------------------------------+\n",
      "| Processes:                                                                  |\n",
      "|  GPU   GI   CI        PID   Type   Process name                  GPU Memory |\n",
      "|        ID   ID                                                   Usage      |\n",
      "|=============================================================================|\n",
      "+-----------------------------------------------------------------------------+\n"
     ]
    }
   ],
   "source": [
    "!nvidia-smi"
   ]
  },
  {
   "cell_type": "code",
   "execution_count": 2,
   "id": "8823a7f6-a560-4591-aef1-f49725f1e839",
   "metadata": {},
   "outputs": [],
   "source": [
    "from torchvision.datasets import MNIST\n",
    "from torch.utils.data import DataLoader\n",
    "from pathlib import Path\n",
    "import matplotlib.pyplot as plt\n",
    "import numpy as np\n",
    "import torch\n",
    "from torch import nn\n",
    "import torchvision.transforms as T\n",
    "\n",
    "from vq_vae import VQVAE\n"
   ]
  },
  {
   "cell_type": "code",
   "execution_count": 3,
   "id": "fb63e638-356e-4db2-bf48-079aed209932",
   "metadata": {},
   "outputs": [],
   "source": [
    "device = 'cuda:0'"
   ]
  },
  {
   "cell_type": "code",
   "execution_count": 4,
   "id": "d313cac2-da39-4dfb-b937-db394a6bd311",
   "metadata": {},
   "outputs": [],
   "source": [
    "def seed_everything(seed: int):\n",
    "    import random, os\n",
    "    import numpy as np\n",
    "    import torch\n",
    "\n",
    "    random.seed(seed)\n",
    "    os.environ['PYTHONHASHSEED'] = str(seed)\n",
    "    np.random.seed(seed)\n",
    "    torch.manual_seed(seed)\n",
    "    torch.cuda.manual_seed(seed)\n",
    "    torch.backends.cudnn.deterministic = True\n",
    "    torch.backends.cudnn.benchmark = True\n",
    "\n",
    "seed = 42\n",
    "seed_everything(seed)"
   ]
  },
  {
   "cell_type": "code",
   "execution_count": 5,
   "id": "24c939c4-e85f-400c-ab20-e4243cd60dd9",
   "metadata": {},
   "outputs": [],
   "source": [
    "data_dir = Path('/app/data/mnist')\n",
    "data_dir.mkdir(exist_ok=True, parents=True)"
   ]
  },
  {
   "cell_type": "code",
   "execution_count": 6,
   "id": "294e9b26-d3b1-4206-b4ed-5cf95134b13f",
   "metadata": {},
   "outputs": [],
   "source": [
    "to_tensor = T.ToTensor()\n",
    "\n",
    "dataset = MNIST(root=data_dir, train=True, download=True, transform=to_tensor)"
   ]
  },
  {
   "cell_type": "code",
   "execution_count": 7,
   "id": "16817cad-0f21-436d-babb-ef8270cb670e",
   "metadata": {},
   "outputs": [],
   "source": [
    "train_dataloader = DataLoader(dataset, batch_size=32, num_workers=2)"
   ]
  },
  {
   "cell_type": "code",
   "execution_count": 8,
   "id": "7589fa34-d21d-403e-808d-52ec026b6a42",
   "metadata": {},
   "outputs": [],
   "source": [
    "class DDPM(nn.Module):\n",
    "    def __init__(self, T = 1000):\n",
    "        super(DDPM, self).__init__()\n",
    "        \n",
    "        self.diffuser = VQVAE(in_channels=1, out_channels=1, embedding_dim=16, num_embeddings=10, img_size=27)\n",
    "\n",
    "        self.T = T\n",
    "        self.betas = self.var_scale(torch.linspace(0, 0.999, self.T)).to(device)\n",
    "    \n",
    "    def noise(self, x_t, b_t):\n",
    "        res = []\n",
    "        for i_b_t in b_t:\n",
    "            i_noise = torch.empty(x_t[:1].shape).normal_(mean=torch.sqrt(1.-i_b_t), std=i_b_t).to(device)\n",
    "            res.append(i_noise)\n",
    "        noise = torch.cat(res, dim=0)\n",
    "        return x_t, noise\n",
    "    \n",
    "    def var_scale(self, t):\n",
    "        s = 0.008\n",
    "        return torch.cos((t+s)/(1+s)*(torch.pi/2))**2\n",
    "    \n",
    "    def forward(self, x0):\n",
    "        t = torch.randint(self.T, (x0.size(0),)).to(x0.device)\n",
    "        b_t = self.betas[t]\n",
    "        \n",
    "        x0, noise = self.noise(x0, b_t)\n",
    "        pred_noise, x0, vq_loss = self.diffuser(x0+noise, b_t.unsqueeze(1).float())\n",
    "        losses_dict = self.diffuser.loss_function(pred_noise, noise, vq_loss)\n",
    "        return losses_dict"
   ]
  },
  {
   "cell_type": "code",
   "execution_count": 9,
   "id": "1ef771b4-78eb-4b07-86ae-0ae81abb50bb",
   "metadata": {},
   "outputs": [],
   "source": [
    "model = DDPM().to(device)\n",
    "optimizer = torch.optim.AdamW(model.parameters(), lr=2e-5, weight_decay=1e-5)"
   ]
  },
  {
   "cell_type": "code",
   "execution_count": 10,
   "id": "15ba8088-c148-43c0-9b7a-9c6bccae2157",
   "metadata": {},
   "outputs": [
    {
     "name": "stderr",
     "output_type": "stream",
     "text": [
      "\u001b[34m\u001b[1mwandb\u001b[0m: Currently logged in as: \u001b[33mnerlfield\u001b[0m. Use \u001b[1m`wandb login --relogin`\u001b[0m to force relogin\n"
     ]
    },
    {
     "data": {
      "text/html": [
       "wandb version 0.13.5 is available!  To upgrade, please run:\n",
       " $ pip install wandb --upgrade"
      ],
      "text/plain": [
       "<IPython.core.display.HTML object>"
      ]
     },
     "metadata": {},
     "output_type": "display_data"
    },
    {
     "data": {
      "text/html": [
       "Tracking run with wandb version 0.12.17"
      ],
      "text/plain": [
       "<IPython.core.display.HTML object>"
      ]
     },
     "metadata": {},
     "output_type": "display_data"
    },
    {
     "data": {
      "text/html": [
       "Run data is saved locally in <code>/app/notebooks/wandb/run-20221110_220123-gyf162pj</code>"
      ],
      "text/plain": [
       "<IPython.core.display.HTML object>"
      ]
     },
     "metadata": {},
     "output_type": "display_data"
    },
    {
     "data": {
      "text/html": [
       "Syncing run <strong><a href=\"https://wandb.ai/nerlfield/mnist_diffusion/runs/gyf162pj\" target=\"_blank\">vqvae_diffusion=42</a></strong> to <a href=\"https://wandb.ai/nerlfield/mnist_diffusion\" target=\"_blank\">Weights & Biases</a> (<a href=\"https://wandb.me/run\" target=\"_blank\">docs</a>)<br/>"
      ],
      "text/plain": [
       "<IPython.core.display.HTML object>"
      ]
     },
     "metadata": {},
     "output_type": "display_data"
    },
    {
     "data": {
      "text/html": [
       "<button onClick=\"this.nextSibling.style.display='block';this.style.display='none';\">Display W&B run</button><iframe src=\"https://wandb.ai/nerlfield/mnist_diffusion/runs/gyf162pj?jupyter=true\" style=\"border:none;width:100%;height:420px;display:none;\"></iframe>"
      ],
      "text/plain": [
       "<wandb.sdk.wandb_run.Run at 0x7fe29ab62100>"
      ]
     },
     "execution_count": 10,
     "metadata": {},
     "output_type": "execute_result"
    }
   ],
   "source": [
    "import wandb\n",
    "wandb.init(project='mnist_diffusion', name=f'vqvae_diffusion={seed}')"
   ]
  },
  {
   "cell_type": "code",
   "execution_count": null,
   "id": "a79d887a-5075-4498-944f-f749beaa235d",
   "metadata": {},
   "outputs": [
    {
     "name": "stdout",
     "output_type": "stream",
     "text": [
      "1.1304610967636108\n",
      "0.5282307267189026\n",
      "0.546099841594696\n",
      "0.599320113658905\n",
      "0.40492522716522217\n",
      "0.6079970598220825\n",
      "0.8302903175354004\n",
      "1.6795475482940674\n",
      "1.807058334350586\n",
      "1.4012625217437744\n",
      "2.4030938148498535\n",
      "3.387909412384033\n",
      "2.9166598320007324\n",
      "2.6926119327545166\n",
      "3.0163447856903076\n",
      "2.925408363342285\n",
      "2.458179473876953\n",
      "5.917365550994873\n",
      "5.343830108642578\n",
      "8.873188972473145\n",
      "2.745845317840576\n",
      "9.836091995239258\n",
      "9.176648139953613\n",
      "10.125917434692383\n",
      "9.596650123596191\n",
      "9.661373138427734\n",
      "9.355484008789062\n",
      "10.855280876159668\n",
      "6.041369438171387\n",
      "6.056549549102783\n",
      "11.93562126159668\n",
      "7.195795059204102\n",
      "7.9415974617004395\n",
      "9.18093490600586\n",
      "7.571775913238525\n",
      "8.079236030578613\n",
      "6.742697238922119\n",
      "8.51246452331543\n",
      "5.114672660827637\n",
      "6.351847171783447\n",
      "6.649860382080078\n",
      "9.15014362335205\n",
      "10.007893562316895\n",
      "10.135489463806152\n",
      "8.225232124328613\n",
      "8.1424560546875\n",
      "7.328952789306641\n",
      "5.532806873321533\n",
      "6.407562255859375\n",
      "7.756834983825684\n",
      "5.8097991943359375\n",
      "6.059876441955566\n",
      "6.794969081878662\n",
      "5.373486042022705\n",
      "5.155046463012695\n",
      "4.639859199523926\n",
      "8.027251243591309\n",
      "6.383745193481445\n",
      "3.950763463973999\n",
      "5.57858943939209\n",
      "6.635743141174316\n",
      "4.540282249450684\n",
      "6.58985710144043\n",
      "4.217706203460693\n",
      "6.683272361755371\n"
     ]
    }
   ],
   "source": [
    "num_epoch = 10000\n",
    "loss_vis_freq = 200\n",
    "\n",
    "i = 0\n",
    "for epoch in range(num_epoch):\n",
    "    for batch in train_dataloader:\n",
    "        batch = batch[0].to(device) #only images\n",
    "        losses_dict = model(batch)\n",
    "        \n",
    "        loss = losses_dict['loss']\n",
    "\n",
    "        optimizer.zero_grad()\n",
    "        loss.backward()\n",
    "        optimizer.step()\n",
    "\n",
    "        if wandb.run is not None:\n",
    "            wandb.log({'loss': loss.item(),\n",
    "                       'recon_loss': losses_dict['Reconstruction_Loss'].item(),\n",
    "                       'vq_loss': losses_dict['VQ_Loss'].item(),\n",
    "                       'i': i})\n",
    "        \n",
    "        if i % loss_vis_freq == 0:\n",
    "                print(loss.item())\n",
    "        \n",
    "        i += 1"
   ]
  },
  {
   "cell_type": "code",
   "execution_count": null,
   "id": "8ed89a2a-dce4-4a05-a4a3-5a9652addaab",
   "metadata": {},
   "outputs": [],
   "source": []
  }
 ],
 "metadata": {
  "kernelspec": {
   "display_name": "Python 3 (ipykernel)",
   "language": "python",
   "name": "python3"
  },
  "language_info": {
   "codemirror_mode": {
    "name": "ipython",
    "version": 3
   },
   "file_extension": ".py",
   "mimetype": "text/x-python",
   "name": "python",
   "nbconvert_exporter": "python",
   "pygments_lexer": "ipython3",
   "version": "3.8.12"
  }
 },
 "nbformat": 4,
 "nbformat_minor": 5
}
